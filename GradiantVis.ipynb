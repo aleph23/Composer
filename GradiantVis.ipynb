{
 "cells": [
  {
   "cell_type": "code",
   "execution_count": 1,
   "metadata": {},
   "outputs": [
    {
     "name": "stderr",
     "output_type": "stream",
     "text": [
      "C:\\ProgramData\\Anaconda2\\envs\\tensor3\\lib\\site-packages\\tensorflow\\python\\framework\\dtypes.py:516: FutureWarning: Passing (type, 1) or '1type' as a synonym of type is deprecated; in a future version of numpy, it will be understood as (type, (1,)) / '(1,)type'.\n",
      "  _np_qint8 = np.dtype([(\"qint8\", np.int8, 1)])\n",
      "C:\\ProgramData\\Anaconda2\\envs\\tensor3\\lib\\site-packages\\tensorflow\\python\\framework\\dtypes.py:517: FutureWarning: Passing (type, 1) or '1type' as a synonym of type is deprecated; in a future version of numpy, it will be understood as (type, (1,)) / '(1,)type'.\n",
      "  _np_quint8 = np.dtype([(\"quint8\", np.uint8, 1)])\n",
      "C:\\ProgramData\\Anaconda2\\envs\\tensor3\\lib\\site-packages\\tensorflow\\python\\framework\\dtypes.py:518: FutureWarning: Passing (type, 1) or '1type' as a synonym of type is deprecated; in a future version of numpy, it will be understood as (type, (1,)) / '(1,)type'.\n",
      "  _np_qint16 = np.dtype([(\"qint16\", np.int16, 1)])\n",
      "C:\\ProgramData\\Anaconda2\\envs\\tensor3\\lib\\site-packages\\tensorflow\\python\\framework\\dtypes.py:519: FutureWarning: Passing (type, 1) or '1type' as a synonym of type is deprecated; in a future version of numpy, it will be understood as (type, (1,)) / '(1,)type'.\n",
      "  _np_quint16 = np.dtype([(\"quint16\", np.uint16, 1)])\n",
      "C:\\ProgramData\\Anaconda2\\envs\\tensor3\\lib\\site-packages\\tensorflow\\python\\framework\\dtypes.py:520: FutureWarning: Passing (type, 1) or '1type' as a synonym of type is deprecated; in a future version of numpy, it will be understood as (type, (1,)) / '(1,)type'.\n",
      "  _np_qint32 = np.dtype([(\"qint32\", np.int32, 1)])\n",
      "C:\\ProgramData\\Anaconda2\\envs\\tensor3\\lib\\site-packages\\tensorflow\\python\\framework\\dtypes.py:525: FutureWarning: Passing (type, 1) or '1type' as a synonym of type is deprecated; in a future version of numpy, it will be understood as (type, (1,)) / '(1,)type'.\n",
      "  np_resource = np.dtype([(\"resource\", np.ubyte, 1)])\n",
      "C:\\ProgramData\\Anaconda2\\envs\\tensor3\\lib\\site-packages\\tensorboard\\compat\\tensorflow_stub\\dtypes.py:541: FutureWarning: Passing (type, 1) or '1type' as a synonym of type is deprecated; in a future version of numpy, it will be understood as (type, (1,)) / '(1,)type'.\n",
      "  _np_qint8 = np.dtype([(\"qint8\", np.int8, 1)])\n",
      "C:\\ProgramData\\Anaconda2\\envs\\tensor3\\lib\\site-packages\\tensorboard\\compat\\tensorflow_stub\\dtypes.py:542: FutureWarning: Passing (type, 1) or '1type' as a synonym of type is deprecated; in a future version of numpy, it will be understood as (type, (1,)) / '(1,)type'.\n",
      "  _np_quint8 = np.dtype([(\"quint8\", np.uint8, 1)])\n",
      "C:\\ProgramData\\Anaconda2\\envs\\tensor3\\lib\\site-packages\\tensorboard\\compat\\tensorflow_stub\\dtypes.py:543: FutureWarning: Passing (type, 1) or '1type' as a synonym of type is deprecated; in a future version of numpy, it will be understood as (type, (1,)) / '(1,)type'.\n",
      "  _np_qint16 = np.dtype([(\"qint16\", np.int16, 1)])\n",
      "C:\\ProgramData\\Anaconda2\\envs\\tensor3\\lib\\site-packages\\tensorboard\\compat\\tensorflow_stub\\dtypes.py:544: FutureWarning: Passing (type, 1) or '1type' as a synonym of type is deprecated; in a future version of numpy, it will be understood as (type, (1,)) / '(1,)type'.\n",
      "  _np_quint16 = np.dtype([(\"quint16\", np.uint16, 1)])\n",
      "C:\\ProgramData\\Anaconda2\\envs\\tensor3\\lib\\site-packages\\tensorboard\\compat\\tensorflow_stub\\dtypes.py:545: FutureWarning: Passing (type, 1) or '1type' as a synonym of type is deprecated; in a future version of numpy, it will be understood as (type, (1,)) / '(1,)type'.\n",
      "  _np_qint32 = np.dtype([(\"qint32\", np.int32, 1)])\n",
      "C:\\ProgramData\\Anaconda2\\envs\\tensor3\\lib\\site-packages\\tensorboard\\compat\\tensorflow_stub\\dtypes.py:550: FutureWarning: Passing (type, 1) or '1type' as a synonym of type is deprecated; in a future version of numpy, it will be understood as (type, (1,)) / '(1,)type'.\n",
      "  np_resource = np.dtype([(\"resource\", np.ubyte, 1)])\n",
      "Using TensorFlow backend.\n"
     ]
    }
   ],
   "source": [
    "import tensorflow as tf\n",
    "import keras\n",
    "from keras.models import Model, load_model\n",
    "from keras import backend as K\n",
    "import numpy as np\n",
    "import params\n",
    "import random\n",
    "from keras.optimizers import Adam, RMSprop\n",
    "\n",
    "import midi_utils\n",
    "import plot_utils\n",
    "import models\n",
    "import params\n",
    "\n",
    "import os\n",
    "\n",
    "import matplotlib\n",
    "import matplotlib.pyplot as plt\n",
    "\n",
    "%matplotlib inline\n",
    "\n",
    "# User constants\n",
    "dir_name = 'results/history/'\n",
    "sub_dir_name = 'basic'\n",
    "num_measures = 16\n",
    "use_pca = True"
   ]
  },
  {
   "cell_type": "code",
   "execution_count": 2,
   "metadata": {},
   "outputs": [
    {
     "name": "stderr",
     "output_type": "stream",
     "text": [
      "WARNING: Logging before flag parsing goes to stderr.\n",
      "W0608 23:25:06.865839 31156 deprecation_wrapper.py:119] From C:\\ProgramData\\Anaconda2\\envs\\tensor3\\lib\\site-packages\\keras\\backend\\tensorflow_backend.py:517: The name tf.placeholder is deprecated. Please use tf.compat.v1.placeholder instead.\n",
      "\n",
      "W0608 23:25:06.904905 31156 deprecation_wrapper.py:119] From C:\\ProgramData\\Anaconda2\\envs\\tensor3\\lib\\site-packages\\keras\\backend\\tensorflow_backend.py:4138: The name tf.random_uniform is deprecated. Please use tf.random.uniform instead.\n",
      "\n"
     ]
    },
    {
     "name": "stdout",
     "output_type": "stream",
     "text": [
      "Keras version: 2.2.4\n",
      "Loading encoder...\n"
     ]
    },
    {
     "name": "stderr",
     "output_type": "stream",
     "text": [
      "W0608 23:25:07.065491 31156 deprecation_wrapper.py:119] From C:\\ProgramData\\Anaconda2\\envs\\tensor3\\lib\\site-packages\\keras\\backend\\tensorflow_backend.py:131: The name tf.get_default_graph is deprecated. Please use tf.compat.v1.get_default_graph instead.\n",
      "\n",
      "W0608 23:25:07.066457 31156 deprecation_wrapper.py:119] From C:\\ProgramData\\Anaconda2\\envs\\tensor3\\lib\\site-packages\\keras\\backend\\tensorflow_backend.py:133: The name tf.placeholder_with_default is deprecated. Please use tf.compat.v1.placeholder_with_default instead.\n",
      "\n",
      "W0608 23:25:07.201126 31156 deprecation.py:506] From C:\\ProgramData\\Anaconda2\\envs\\tensor3\\lib\\site-packages\\keras\\backend\\tensorflow_backend.py:3445: calling dropout (from tensorflow.python.ops.nn_ops) with keep_prob is deprecated and will be removed in a future version.\n",
      "Instructions for updating:\n",
      "Please use `rate` instead of `keep_prob`. Rate should be set to `rate = 1 - keep_prob`.\n",
      "W0608 23:25:07.821541 31156 deprecation_wrapper.py:119] From C:\\ProgramData\\Anaconda2\\envs\\tensor3\\lib\\site-packages\\keras\\backend\\tensorflow_backend.py:174: The name tf.get_default_session is deprecated. Please use tf.compat.v1.get_default_session instead.\n",
      "\n",
      "W0608 23:25:12.050011 31156 deprecation_wrapper.py:119] From C:\\ProgramData\\Anaconda2\\envs\\tensor3\\lib\\site-packages\\keras\\optimizers.py:790: The name tf.train.Optimizer is deprecated. Please use tf.compat.v1.train.Optimizer instead.\n",
      "\n",
      "W0608 23:25:12.060956 31156 deprecation.py:323] From C:\\ProgramData\\Anaconda2\\envs\\tensor3\\lib\\site-packages\\tensorflow\\python\\ops\\nn_impl.py:180: add_dispatch_support.<locals>.wrapper (from tensorflow.python.ops.array_ops) is deprecated and will be removed in a future version.\n",
      "Instructions for updating:\n",
      "Use tf.where in 2.0, which has the same broadcast rule as np.where\n"
     ]
    },
    {
     "name": "stdout",
     "output_type": "stream",
     "text": [
      "Loading gaussian/pca statistics...\n"
     ]
    }
   ],
   "source": [
    "print(\"Keras version: \" + keras.__version__)\n",
    "\n",
    "K.set_image_data_format('channels_first')\n",
    "\n",
    "print(\"Loading encoder...\")\n",
    "# priority name.h5 in sub, model.h5 in sub, name.h5 in dir, model.h5 in dir\n",
    "if os.path.isfile(dir_name + sub_dir_name + '/' + sub_dir_name + '.h5'):\n",
    "    model = load_model(dir_name + sub_dir_name + '/' + sub_dir_name + '.h5')\n",
    "\n",
    "elif os.path.isfile(dir_name + sub_dir_name + '/' + 'model.h5'):\n",
    "    model = load_model(dir_name + sub_dir_name + '/' + 'model.h5')\n",
    "\n",
    "elif os.path.isfile(dir_name + sub_dir_name + '.h5'):\n",
    "    model = load_model(dir_name + sub_dir_name + '.h5')\n",
    "\n",
    "else:\n",
    "    model = load_model(dir_name + 'model.h5')\n",
    "\n",
    "\n",
    "encoder = Model(inputs=model.input,\n",
    "                    outputs=model.get_layer('encoder').output)\n",
    "encoderFunc = K.function([model.input, K.learning_phase()], \n",
    "                    [model.get_layer('encoder').output])\n",
    "decoder = K.function([model.get_layer('decoder').input, K.learning_phase()],\n",
    "                         [model.layers[-1].output])\n",
    "# decoder = Model(inputs=model.get_layer('decoder').input,\n",
    "#                     outputs=model.layers[-1].output)\n",
    "\n",
    "print(\"Loading gaussian/pca statistics...\")\n",
    "latent_means = np.load(dir_name + sub_dir_name + '/latent_means.npy')\n",
    "latent_stds = np.load(dir_name + sub_dir_name + '/latent_stds.npy')\n",
    "latent_pca_values = np.load(\n",
    "    dir_name + sub_dir_name + '/latent_pca_values.npy')\n",
    "latent_pca_vectors = np.load(\n",
    "    dir_name + sub_dir_name + '/latent_pca_vectors.npy')"
   ]
  },
  {
   "cell_type": "code",
   "execution_count": 10,
   "metadata": {},
   "outputs": [
    {
     "name": "stdout",
     "output_type": "stream",
     "text": [
      "_________________________________________________________________\n",
      "Layer (type)                 Output Shape              Param #   \n",
      "=================================================================\n",
      "input_1 (InputLayer)         (None, 16, 96, 96)        0         \n",
      "_________________________________________________________________\n",
      "reshape_1 (Reshape)          (None, 16, 9216)          0         \n",
      "_________________________________________________________________\n",
      "time_distributed_1 (TimeDist (None, 16, 2000)          18434000  \n",
      "_________________________________________________________________\n",
      "time_distributed_2 (TimeDist (None, 16, 200)           400200    \n",
      "_________________________________________________________________\n",
      "flatten_1 (Flatten)          (None, 3200)              0         \n",
      "_________________________________________________________________\n",
      "dense_3 (Dense)              (None, 1600)              5121600   \n",
      "_________________________________________________________________\n",
      "dense_4 (Dense)              (None, 40)                64040     \n",
      "_________________________________________________________________\n",
      "encoder (BatchNormalization) (None, 40)                160       \n",
      "=================================================================\n",
      "Total params: 24,020,000\n",
      "Trainable params: 24,019,920\n",
      "Non-trainable params: 80\n",
      "_________________________________________________________________\n"
     ]
    }
   ],
   "source": [
    "# model.summary()\n",
    "encoder.summary()\n",
    "\n",
    "encoder.compile(optimizer=RMSprop(lr=0.01), loss='binary_crossentropy')\n",
    "# decoder.summary()"
   ]
  },
  {
   "cell_type": "code",
   "execution_count": 11,
   "metadata": {},
   "outputs": [
    {
     "name": "stdout",
     "output_type": "stream",
     "text": [
      "Loading Data...\n",
      "Loaded 8980 samples from 172 songs.\n",
      "8980\n",
      "Preparing song samples, padding songs...\n",
      "saving sample\n"
     ]
    }
   ],
   "source": [
    "np.random.seed(42)\n",
    "random.seed(42)\n",
    "\n",
    "# network params\n",
    "DROPOUT_RATE = 0.1\n",
    "BATCHNORM_MOMENTUM = 0.9  # weighted normalization with the past\n",
    "USE_EMBEDDING = False\n",
    "USE_VAE = False\n",
    "VAE_B1 = 0.02\n",
    "VAE_B2 = 0.1\n",
    "\n",
    "BATCH_SIZE = 350\n",
    "MAX_WINDOWS = 16  # the maximal number of measures a song can have\n",
    "LATENT_SPACE_SIZE = params.num_params\n",
    "NUM_OFFSETS = 16 if USE_EMBEDDING else 1\n",
    "\n",
    "K.set_image_data_format('channels_first')\n",
    "\n",
    "samples_path='data/interim/samples.npy'\n",
    "lengths_path='data/interim/lengths.npy'\n",
    "\n",
    "print(\"Loading Data...\")\n",
    "if not os.path.exists(samples_path) or not os.path.exists(lengths_path):\n",
    "    print('No input data found, run preprocess_songs.py first.')\n",
    "    assert(False)\n",
    "\n",
    "y_samples = np.load(samples_path)\n",
    "y_lengths = np.load(lengths_path)\n",
    "\n",
    "samples_qty = y_samples.shape[0]\n",
    "songs_qty = y_lengths.shape[0]\n",
    "\n",
    "print(\"Loaded \" + str(samples_qty) + \" samples from \" + str(songs_qty) + \" songs.\")\n",
    "print(np.sum(y_lengths))\n",
    "assert (np.sum(y_lengths) == samples_qty)\n",
    "\n",
    "print(\"Preparing song samples, padding songs...\")\n",
    "x_shape = (songs_qty * NUM_OFFSETS, 1)  # for embedding\n",
    "x_orig = np.expand_dims(np.arange(x_shape[0]), axis=-1)\n",
    "\n",
    "y_shape = (songs_qty * NUM_OFFSETS, MAX_WINDOWS) + y_samples.shape[1:]  # (songs_qty, max number of windows, window pitch qty, window beats per measure)\n",
    "y_orig = np.zeros(y_shape, dtype=np.float32)  # prepare dataset array\n",
    "\n",
    "# fill in measure of songs into input windows for network\n",
    "song_start_ix = 0\n",
    "song_end_ix = y_lengths[0]\n",
    "for song_ix in range(songs_qty):\n",
    "    for offset in range(NUM_OFFSETS):\n",
    "        ix = song_ix * NUM_OFFSETS + offset  # calculate the index of the song with its offset\n",
    "        song_end_ix = song_start_ix + y_lengths[song_ix]  # get song end ix\n",
    "        for window_ix in range(MAX_WINDOWS):  # get a maximum number of measures from a song\n",
    "            song_measure_ix = (window_ix + offset) % y_lengths[song_ix]  # chosen measure of song to be placed in window (modulo song length)\n",
    "            y_orig[ix, window_ix] = y_samples[song_start_ix + song_measure_ix]  # move measure into window\n",
    "    song_start_ix = song_end_ix  # new song start index is previous song end index\n",
    "assert (song_end_ix == samples_qty)\n",
    "x_train = np.copy(x_orig)\n",
    "y_train = np.copy(y_orig)\n",
    "\n",
    "test_ix = 0\n",
    "y_test_song = np.copy(y_train[test_ix: test_ix + 1])\n",
    "x_test_song = np.copy(x_train[test_ix: test_ix + 1])\n",
    "print(\"saving sample\")\n",
    "midi_utils.samples_to_midi(y_test_song[0], 'data/interim/gt.mid')"
   ]
  },
  {
   "cell_type": "code",
   "execution_count": 5,
   "metadata": {},
   "outputs": [
    {
     "name": "stdout",
     "output_type": "stream",
     "text": [
      "(172, 16, 96, 96)\n"
     ]
    }
   ],
   "source": [
    "print(y_train.shape)"
   ]
  },
  {
   "cell_type": "code",
   "execution_count": 12,
   "metadata": {},
   "outputs": [
    {
     "name": "stdout",
     "output_type": "stream",
     "text": [
      "(172, 16, 96, 96)\n"
     ]
    }
   ],
   "source": [
    "offset = 0\n",
    "epochs_qty = 1\n",
    "\n",
    "for epoch in range(epochs_qty):\n",
    "    if USE_EMBEDDING:\n",
    "        history = 0\n",
    "#         history = model.fit(x_train, y_train, batch_size=BATCH_SIZE, epochs=1)\n",
    "    else:\n",
    "        # produce songs from its samples with a different starting point of the song each time\n",
    "        song_start_ix = 0\n",
    "        for song_ix in range(songs_qty):\n",
    "            song_end_ix = song_start_ix + y_lengths[song_ix]\n",
    "            for window_ix in range(MAX_WINDOWS):\n",
    "                song_measure_ix = (window_ix + offset) % y_lengths[song_ix]\n",
    "                y_train[song_ix, window_ix] = y_samples[song_start_ix + song_measure_ix]\n",
    "                #if params.encode_volume:\n",
    "                    #y_train[song_ix, window_ix] /= 100.0\n",
    "            song_start_ix = song_end_ix\n",
    "        assert (song_end_ix == samples_qty)\n",
    "        offset += 1\n",
    "        print(y_train.shape)\n",
    "\n",
    "#         history = model.fit(y_train, y_train, batch_size=BATCH_SIZE, epochs=1)  # train model on reconstruction loss"
   ]
  },
  {
   "cell_type": "code",
   "execution_count": 13,
   "metadata": {},
   "outputs": [],
   "source": [
    "def flattenWindow(song):\n",
    "    flat = np.zeros((96 * 2, 96 * 8))\n",
    "    for i in range(2):\n",
    "        for j in range(8):\n",
    "            wix = j + i * 8\n",
    "            flat[i*96:i*96+96, j*96:j*96+96] = song[0][wix]\n",
    "    return flat"
   ]
  },
  {
   "cell_type": "code",
   "execution_count": 14,
   "metadata": {},
   "outputs": [
    {
     "name": "stdout",
     "output_type": "stream",
     "text": [
      "(1, 16, 96, 96)\n",
      "(192, 768)\n"
     ]
    },
    {
     "data": {
      "image/png": "[encoded data removed]",
      "text/plain": [
       "<Figure size 432x288 with 1 Axes>"
      ]
     },
     "metadata": {
      "needs_background": "light"
     },
     "output_type": "display_data"
    }
   ],
   "source": [
    "song_ix = 0\n",
    "song = y_train[song_ix:song_ix+1]\n",
    "print(song.shape)\n",
    "flat = flattenWindow(song)\n",
    "print(flat.shape)\n",
    "\n",
    "# plt.figure()\n",
    "# matplotlib.rcParams['figure.figsize'] = [20, 20]\n",
    "# for i in range(16):\n",
    "#     plt.subplot(2, 8, i+1)\n",
    "#     plt.imshow(song[0][i])\n",
    "# plt.show()\n",
    "\n",
    "plt.figure()\n",
    "plt.imshow(flat)\n",
    "plt.show()"
   ]
  },
  {
   "cell_type": "code",
   "execution_count": 21,
   "metadata": {},
   "outputs": [
    {
     "name": "stdout",
     "output_type": "stream",
     "text": [
      "Tensor(\"Const_1:0\", shape=(1, 16, 96, 96), dtype=float32)\n",
      "Tensor(\"model_1/encoder/cond/Merge:0\", shape=(?, 40), dtype=float32)\n",
      "None\n"
     ]
    }
   ],
   "source": [
    "song = tf.convert_to_tensor(song)\n",
    "print(song)\n",
    "\n",
    "with tf.GradientTape() as tape:\n",
    "    tape.watch(song)\n",
    "    \n",
    "    latent_x = encoder(song)\n",
    "    \n",
    "    print(latent_x)\n",
    "\n",
    "    if use_pca:\n",
    "        current_params = np.dot(\n",
    "            latent_x - latent_means, latent_pca_vectors.T) / latent_pca_values\n",
    "    else:\n",
    "        current_params = (\n",
    "            latent_x - latent_means) / latent_stds\n",
    "\n",
    "#     print(current_params)\n",
    "    \n",
    "gradient = tape.gradient(latent_x, song)\n",
    "print(gradient)"
   ]
  },
  {
   "cell_type": "code",
   "execution_count": null,
   "metadata": {},
   "outputs": [],
   "source": []
  },
  {
   "cell_type": "code",
   "execution_count": null,
   "metadata": {},
   "outputs": [],
   "source": []
  }
 ],
 "metadata": {
  "kernelspec": {
   "display_name": "composer",
   "language": "python",
   "name": "composer"
  },
  "language_info": {
   "codemirror_mode": {
    "name": "ipython",
    "version": 3
   },
   "file_extension": ".py",
   "mimetype": "text/x-python",
   "name": "python",
   "nbconvert_exporter": "python",
   "pygments_lexer": "ipython3",
   "version": "3.6.8"
  }
 },
 "nbformat": 4,
 "nbformat_minor": 4
}
